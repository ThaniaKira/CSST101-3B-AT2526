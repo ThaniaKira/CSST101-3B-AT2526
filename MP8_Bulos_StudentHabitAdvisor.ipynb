{
  "nbformat": 4,
  "nbformat_minor": 0,
  "metadata": {
    "colab": {
      "provenance": [],
      "include_colab_link": true
    },
    "kernelspec": {
      "name": "ir",
      "display_name": "R"
    },
    "language_info": {
      "name": "R"
    }
  },
  "cells": [
    {
      "cell_type": "markdown",
      "metadata": {
        "id": "view-in-github",
        "colab_type": "text"
      },
      "source": [
        "<a href=\"https://colab.research.google.com/github/ThaniaKira/CSST101-3B-AT2526/blob/main/MP8_Bulos_StudentHabitAdvisor.ipynb\" target=\"_parent\"><img src=\"https://colab.research.google.com/assets/colab-badge.svg\" alt=\"Open In Colab\"/></a>"
      ]
    },
    {
      "cell_type": "code",
      "source": [
        "# Bulos, Mariabel M.\n",
        "# BSCS 3B\n",
        "# Title: Student Habit Advisor\n",
        "guide <- as.numeric(readline(prompt=\"How many hours in 1 day do you usually study? \"))\n",
        "\n",
        "if (-1 < guide & guide < 1) {\n",
        "  attendance <- readline(prompt=\"Do you always attend classes? \")\n",
        "  if (attendance == \"yes\") {\n",
        "    print(\"You will likely to fail, attending class can't get you a passing grade.\")\n",
        "  } else {\n",
        "    print(\"Attendance is a crucial part in grades and with the number of your study hours, you will likely to fail.\")\n",
        "  }\n",
        "} else if (guide == 1) {\n",
        "  organize <- readline(prompt=\"Do you have an organized schedule? \")\n",
        "  if (organize == \"yes\") {\n",
        "    print(\"You will partially pass, however, try to increase your study hours.\")\n",
        "  } else {\n",
        "    print(\"You will likely to fail, try to make an organized schedule to promote productivity.\")\n",
        "  }\n",
        "} else if (1 < guide & 5 > guide) {\n",
        "  listen <- readline(prompt=\"Do you listen in class? \")\n",
        "  if (listen == \"yes\") {\n",
        "    print(\"You will pass.\")\n",
        "  } else {\n",
        "    print(\"You will partially pass since listening in class is a crucial part in learning.\")\n",
        "  }\n",
        "} else if (4 < guide & 10 > guide) {\n",
        "  notes <- readline(prompt=\"Do you take down notes during class? \")\n",
        "  if (notes == \"yes\") {\n",
        "    print(\"You will pass.\")\n",
        "  } else {\n",
        "    print(\"Despite not listening in class with the number of your study will likely get you a passing grade, however, try to listen in your class.\")\n",
        "  }\n",
        "} else if (9 < guide & 25 > guide) {\n",
        "  score <- readline(prompt=\"Are your scores higher than average in your class? \")\n",
        "  if (score == \"yes\") {\n",
        "    print(\"You will pass.\")\n",
        "  } else {\n",
        "    print(\"You will partially pass, scores in quizzes and exams are a big part of your grade so try to utlize your study hours on subjects you are lacking.\")\n",
        "  }\n",
        "} else {\n",
        "  print(\"Please select from 0 to 24\")\n",
        "}\n"
      ],
      "metadata": {
        "colab": {
          "base_uri": "https://localhost:8080/"
        },
        "id": "fiV-m2eyzc5-",
        "outputId": "40f295dd-4061-469c-983b-f45f5b66f155"
      },
      "execution_count": 25,
      "outputs": [
        {
          "output_type": "stream",
          "name": "stdout",
          "text": [
            "How many hours in 1 day do you usually study? 10\n",
            "Are your scores higher than average in your class? yes\n",
            "[1] \"You will pass.\"\n"
          ]
        }
      ]
    }
  ]
}