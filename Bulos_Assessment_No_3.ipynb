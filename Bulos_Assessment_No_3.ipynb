{
  "nbformat": 4,
  "nbformat_minor": 0,
  "metadata": {
    "colab": {
      "provenance": [],
      "authorship_tag": "ABX9TyNGvT7KVDrQC3KL78pBDbNH",
      "include_colab_link": true
    },
    "kernelspec": {
      "name": "python3",
      "display_name": "Python 3"
    },
    "language_info": {
      "name": "python"
    }
  },
  "cells": [
    {
      "cell_type": "markdown",
      "metadata": {
        "id": "view-in-github",
        "colab_type": "text"
      },
      "source": [
        "<a href=\"https://colab.research.google.com/github/ThaniaKira/CSST101-3B-AT2526/blob/main/Bulos_Assessment_No_3.ipynb\" target=\"_parent\"><img src=\"https://colab.research.google.com/assets/colab-badge.svg\" alt=\"Open In Colab\"/></a>"
      ]
    },
    {
      "cell_type": "markdown",
      "source": [
        "# **Part 1 - Unification**"
      ],
      "metadata": {
        "id": "lPpTjKi3kB4A"
      }
    },
    {
      "cell_type": "code",
      "execution_count": null,
      "metadata": {
        "colab": {
          "base_uri": "https://localhost:8080/"
        },
        "id": "Tb0rzyIPiwBf",
        "outputId": "46a094d9-32ed-4665-db36-a3aef517afda"
      },
      "outputs": [
        {
          "output_type": "stream",
          "name": "stdout",
          "text": [
            "{'x': 'Ana'}\n"
          ]
        }
      ],
      "source": [
        "def unify(p1, p2):\n",
        "    f1, f2 = p1.split(\"(\")[0], p2.split(\"(\")[0]\n",
        "    if f1 != f2: return \"Cannot be unified\"\n",
        "\n",
        "    a1 = p1[p1.find(\"(\")+1:-1].split(\",\")\n",
        "    a2 = p2[p2.find(\"(\")+1:-1].split(\",\")\n",
        "    if len(a1) != len(a2): return \"Cannot be unified\"\n",
        "\n",
        "    subs = {}\n",
        "    for x, y in zip(a1, a2):\n",
        "        x, y = x.strip(), y.strip()\n",
        "        if x == y: continue\n",
        "        if x.islower(): subs[x] = y\n",
        "        elif y.islower(): subs[y] = x\n",
        "        else: return \"Cannot be unified\"\n",
        "\n",
        "    return subs or \"Already unified\"\n",
        "\n",
        "result = unify(\"Eligible(x)\", \"Eligible(Ana)\")\n",
        "print(result)"
      ]
    },
    {
      "cell_type": "markdown",
      "source": [
        "# **Part 2 - Forward Chaining**"
      ],
      "metadata": {
        "id": "-83A4NZdk_sX"
      }
    },
    {
      "cell_type": "code",
      "source": [
        "facts = {\n",
        "    \"Student(Juan)\",\n",
        "    \"HighGPA(Juan)\",\n",
        "    \"Student(Ana)\",\n",
        "    \"HighGPA(Ana)\",\n",
        "    \"Student(Maria)\",\n",
        "    \"Student(Carlos)\"\n",
        "}\n",
        "\n",
        "rules = [\n",
        "    (\"Student\", \"Qualified\"),\n",
        "    (\"HighGPA\", \"Eligible\"),\n",
        "    (\"Eligible\", \"Scholarship\")\n",
        "]\n",
        "\n",
        "print(\"Initial facts:\", facts)\n",
        "\n",
        "for premise, conclusion in rules:\n",
        "    print(f\"\\nApplying Rule: IF {premise}(x) THEN {conclusion}(x)\")\n",
        "    new_facts = set()\n",
        "    for fact in list(facts): # Iterate over a copy\n",
        "        if fact.startswith(premise + \"(\"):\n",
        "            name = fact[fact.find(\"(\")+1:-1]\n",
        "            new_fact = f\"{conclusion}({name})\"\n",
        "            if new_fact not in facts:\n",
        "                new_facts.add(new_fact)\n",
        "                print(f\"  Derived: {new_fact} from {fact}\")\n",
        "            else:\n",
        "                print(f\"  {new_fact} already exists in facts.\")\n",
        "\n",
        "    facts.update(new_facts)\n",
        "    print(f\"  Current facts: {facts}\")\n",
        "\n",
        "\n",
        "print(f\"\\nFinal facts: {facts}\")\n",
        "\n",
        "print(\"\\n\" + \"=\"*50)\n",
        "print(\"ANALYSIS:\")\n",
        "print(\"Juan:\", \"Eligible\" if \"Eligible(Juan)\" in facts else \"Not eligible\")\n",
        "print(\"Ana:\", \"Eligible\" if \"Eligible(Ana)\" in facts else \"Not eligible\")\n",
        "print(\"Maria:\", \"Eligible\" if \"Eligible(Maria)\" in facts else \"Not eligible\")\n",
        "print(\"Carlos:\", \"Eligible\" if \"Eligible(Carlos)\" in facts else \"Not eligible\")\n",
        "\n",
        "print(\"\\nREASON:\")\n",
        "print(\"Maria and Carlos are not eligible and do not have Scholarship because they don't have High GPA.\")\n",
        "print(\"Juan and Ana are eligible and have Scholarship because they have High GPA.\")"
      ],
      "metadata": {
        "colab": {
          "base_uri": "https://localhost:8080/"
        },
        "id": "gRhFe0ZmlJ0a",
        "outputId": "87b6b628-7481-404e-d151-41810c93a1ac"
      },
      "execution_count": 10,
      "outputs": [
        {
          "output_type": "stream",
          "name": "stdout",
          "text": [
            "Initial facts: {'HighGPA(Juan)', 'Student(Ana)', 'Student(Maria)', 'HighGPA(Ana)', 'Student(Juan)', 'Student(Carlos)'}\n",
            "\n",
            "Applying Rule: IF Student(x) THEN Qualified(x)\n",
            "  Derived: Qualified(Ana) from Student(Ana)\n",
            "  Derived: Qualified(Maria) from Student(Maria)\n",
            "  Derived: Qualified(Juan) from Student(Juan)\n",
            "  Derived: Qualified(Carlos) from Student(Carlos)\n",
            "  Current facts: {'Student(Ana)', 'Qualified(Juan)', 'Qualified(Maria)', 'Student(Maria)', 'HighGPA(Juan)', 'HighGPA(Ana)', 'Student(Juan)', 'Student(Carlos)', 'Qualified(Ana)', 'Qualified(Carlos)'}\n",
            "\n",
            "Applying Rule: IF HighGPA(x) THEN Eligible(x)\n",
            "  Derived: Eligible(Juan) from HighGPA(Juan)\n",
            "  Derived: Eligible(Ana) from HighGPA(Ana)\n",
            "  Current facts: {'Student(Ana)', 'Qualified(Juan)', 'Qualified(Maria)', 'Student(Maria)', 'HighGPA(Juan)', 'HighGPA(Ana)', 'Student(Juan)', 'Student(Carlos)', 'Qualified(Ana)', 'Qualified(Carlos)', 'Eligible(Juan)', 'Eligible(Ana)'}\n",
            "\n",
            "Applying Rule: IF Eligible(x) THEN Scholarship(x)\n",
            "  Derived: Scholarship(Juan) from Eligible(Juan)\n",
            "  Derived: Scholarship(Ana) from Eligible(Ana)\n",
            "  Current facts: {'Student(Ana)', 'Qualified(Juan)', 'Qualified(Maria)', 'Student(Maria)', 'HighGPA(Juan)', 'HighGPA(Ana)', 'Student(Juan)', 'Student(Carlos)', 'Scholarship(Juan)', 'Qualified(Ana)', 'Qualified(Carlos)', 'Eligible(Juan)', 'Eligible(Ana)', 'Scholarship(Ana)'}\n",
            "\n",
            "Final facts: {'Student(Ana)', 'Qualified(Juan)', 'Qualified(Maria)', 'Student(Maria)', 'HighGPA(Juan)', 'HighGPA(Ana)', 'Student(Juan)', 'Student(Carlos)', 'Scholarship(Juan)', 'Qualified(Ana)', 'Qualified(Carlos)', 'Eligible(Juan)', 'Eligible(Ana)', 'Scholarship(Ana)'}\n",
            "\n",
            "==================================================\n",
            "ANALYSIS:\n",
            "Juan: Eligible\n",
            "Ana: Eligible\n",
            "Maria: Not eligible\n",
            "Carlos: Not eligible\n",
            "\n",
            "REASON:\n",
            "Maria and Carlos are not eligible and do not have Scholarship because they don't have High GPA.\n",
            "Juan and Ana are eligible and have Scholarship because they have High GPA.\n"
          ]
        }
      ]
    },
    {
      "cell_type": "markdown",
      "source": [
        "# **Part 3 - Backward Chaining**"
      ],
      "metadata": {
        "id": "2oiQImQ5rm_B"
      }
    },
    {
      "cell_type": "code",
      "source": [
        "# Facts and rules\n",
        "facts = {\"Student(Carlos)\", \"Studies(Carlos)\", \"Submits(Carlos, IT101)\"}\n",
        "premises = [\"Studies(x)\", \"Submits(x, IT101)\"]\n",
        "conclusion = \"Passed(x, IT101)\"\n",
        "\n",
        "def prove(goal):\n",
        "    print(f\"Trying to prove: {goal}\")\n",
        "\n",
        "    if goal in facts:\n",
        "        print(f\"✓ Found in facts: {goal}\")\n",
        "        return True\n",
        "\n",
        "    if goal.startswith(\"Passed(\"):\n",
        "        name = goal[goal.find(\"(\")+1:goal.find(\",\")]\n",
        "        course = goal[goal.find(\",\")+1:goal.find(\")\")].strip()\n",
        "        print(f\"Need to prove Passed({name}, {course}) - checking premises...\")\n",
        "\n",
        "        premises_proven = []\n",
        "        for premise in premises:\n",
        "            subgoal = premise.replace(\"x\", name)\n",
        "            if \",\" in premise:  # Handle predicates with multiple arguments\n",
        "                subgoal = subgoal.replace(\"IT101\", course)\n",
        "            print(f\"  Proving subgoal: {subgoal}\")\n",
        "            result = prove(subgoal)\n",
        "            premises_proven.append(result)\n",
        "\n",
        "        final_result = all(premises_proven)\n",
        "        print(f\"All premises for {goal} proven? {final_result}\")\n",
        "        return final_result\n",
        "\n",
        "    print(f\"✗ Cannot prove: {goal} (not in facts and no rule matches)\")\n",
        "    return False\n",
        "\n",
        "print(\"=\" * 50)\n",
        "print(\"GOAL 1: Scholarship(Maria)\")\n",
        "print(\"=\" * 50)\n",
        "# For Scholarship(Maria), we need appropriate facts and rules\n",
        "# Since we don't have rules/facts about Scholarship, it will fail\n",
        "scholarship_facts = {\"Student(Maria)\"} # Modified facts to exclude Hardworking(Maria)\n",
        "scholarship_rules = [(\"Student(x) & Hardworking(x)\", \"Scholarship(x)\")]\n",
        "\n",
        "def prove_scholarship(goal):\n",
        "    print(f\"Trying to prove: {goal}\")\n",
        "\n",
        "    if goal in scholarship_facts:\n",
        "        print(f\"✓ Found in facts: {goal}\")\n",
        "        return True\n",
        "\n",
        "    if goal.startswith(\"Scholarship(\"):\n",
        "        name = goal[goal.find(\"(\")+1:-1]\n",
        "        print(f\"Need to prove Scholarship({name}) - checking rule premises...\")\n",
        "\n",
        "        # Check if Student and Hardworking\n",
        "        student_goal = f\"Student({name})\"\n",
        "        hardworking_goal = f\"Hardworking({name})\"\n",
        "\n",
        "        print(f\"  Proving subgoal: {student_goal}\")\n",
        "        student_proven = prove_scholarship(student_goal)\n",
        "\n",
        "        print(f\"  Proving subgoal: {hardworking_goal}\")\n",
        "        hardworking_proven = prove_scholarship(hardworking_goal)\n",
        "\n",
        "        final_result = student_proven and hardworking_proven\n",
        "        print(f\"All premises for {goal} proven? {final_result}\")\n",
        "        return final_result\n",
        "\n",
        "    print(f\"✗ Cannot prove: {goal}\")\n",
        "    return False\n",
        "\n",
        "print(\"Scholarship(Maria)?\", prove_scholarship(\"Scholarship(Maria)\"))\n",
        "print(\"\\n\" + \"=\" * 50)\n",
        "\n",
        "print(\"GOAL 2: FinancialSupport(Ana)\")\n",
        "print(\"=\" * 50)\n",
        "# For FinancialSupport(Ana), we need appropriate facts and rules\n",
        "financial_facts = {\"Student(Ana)\", \"LowIncome(Ana)\", \"Applies(Ana, FinancialAid)\"}\n",
        "financial_rules = [(\"Student(x) & LowIncome(x) & Applies(x, FinancialAid)\", \"FinancialSupport(x)\")]\n",
        "\n",
        "def prove_financial(goal):\n",
        "    print(f\"Trying to prove: {goal}\")\n",
        "\n",
        "    if goal in financial_facts:\n",
        "        print(f\"✓ Found in facts: {goal}\")\n",
        "        return True\n",
        "\n",
        "    if goal.startswith(\"FinancialSupport(\"):\n",
        "        name = goal[goal.find(\"(\")+1:-1]\n",
        "        print(f\"Need to prove FinancialSupport({name}) - checking rule premises...\")\n",
        "\n",
        "        # Check all conditions\n",
        "        student_goal = f\"Student({name})\"\n",
        "        income_goal = f\"LowIncome({name})\"\n",
        "        applies_goal = f\"Applies({name}, FinancialAid)\"\n",
        "\n",
        "        print(f\"  Proving subgoal: {student_goal}\")\n",
        "        student_proven = prove_financial(student_goal)\n",
        "\n",
        "        print(f\"  Proving subgoal: {income_goal}\")\n",
        "        income_proven = prove_financial(income_goal)\n",
        "\n",
        "        print(f\"  Proving subgoal: {applies_goal}\")\n",
        "        applies_proven = prove_financial(applies_goal)\n",
        "\n",
        "        final_result = student_proven and income_proven and applies_proven\n",
        "        print(f\"All premises for {goal} proven? {final_result}\")\n",
        "        return final_result\n",
        "\n",
        "    print(f\"✗ Cannot prove: {goal}\")\n",
        "    return False\n",
        "\n",
        "print(\"FinancialSupport(Ana)?\", prove_financial(\"FinancialSupport(Ana)\"))"
      ],
      "metadata": {
        "colab": {
          "base_uri": "https://localhost:8080/"
        },
        "id": "IgjsGlBPrvh0",
        "outputId": "d6270667-bc43-48e8-b8f3-de140a901f34"
      },
      "execution_count": 12,
      "outputs": [
        {
          "output_type": "stream",
          "name": "stdout",
          "text": [
            "==================================================\n",
            "GOAL 1: Scholarship(Maria)\n",
            "==================================================\n",
            "Trying to prove: Scholarship(Maria)\n",
            "Need to prove Scholarship(Maria) - checking rule premises...\n",
            "  Proving subgoal: Student(Maria)\n",
            "Trying to prove: Student(Maria)\n",
            "✓ Found in facts: Student(Maria)\n",
            "  Proving subgoal: Hardworking(Maria)\n",
            "Trying to prove: Hardworking(Maria)\n",
            "✗ Cannot prove: Hardworking(Maria)\n",
            "All premises for Scholarship(Maria) proven? False\n",
            "Scholarship(Maria)? False\n",
            "\n",
            "==================================================\n",
            "GOAL 2: FinancialSupport(Ana)\n",
            "==================================================\n",
            "Trying to prove: FinancialSupport(Ana)\n",
            "Need to prove FinancialSupport(Ana) - checking rule premises...\n",
            "  Proving subgoal: Student(Ana)\n",
            "Trying to prove: Student(Ana)\n",
            "✓ Found in facts: Student(Ana)\n",
            "  Proving subgoal: LowIncome(Ana)\n",
            "Trying to prove: LowIncome(Ana)\n",
            "✓ Found in facts: LowIncome(Ana)\n",
            "  Proving subgoal: Applies(Ana, FinancialAid)\n",
            "Trying to prove: Applies(Ana, FinancialAid)\n",
            "✓ Found in facts: Applies(Ana, FinancialAid)\n",
            "All premises for FinancialSupport(Ana) proven? True\n",
            "FinancialSupport(Ana)? True\n"
          ]
        }
      ]
    },
    {
      "cell_type": "markdown",
      "source": [
        "**REASONING STEPS:**\n",
        "\n",
        "**Goal 1: Scholarship(Maria)**\n",
        "\n",
        "1.   Check if \"Scholarship(Maria)\" is in facts → Not found\n",
        "2.   Apply rule: IF Student(x) & Hardworking(x) THEN Scholarship(x)\n",
        "1.   Check subgoal: \"Student(Maria)\" → ✓ Found in facts\n",
        "2.   Check subgoal: \"Hardworking(Maria)\" → ✗ Not found in facts\n",
        "\n",
        "**Conclusion**: Cannot prove Scholarship(Maria)\n",
        "\n",
        "\n",
        "**Goal 2: FinancialSupport(Ana)**\n",
        "\n",
        "1.   Check if \"FinancialSupport(Ana)\" is in facts → Not found\n",
        "1.   Apply rule: IF Student(x) & LowIncome(x) & Applies(x, FinancialAid) THEN FinancialSupport(x)\n",
        "2.   Check subgoal: \"Student(Ana)\" → ✓ Found in facts\n",
        "2.   Check subgoal: \"LowIncome(Ana)\" → ✓ Found in facts\n",
        "1.   Check subgoal: \"Applies(Ana, FinancialAid)\" → ✓ Found in facts\n",
        "\n",
        "**Conclusion**: ✓ FinancialSupport(Ana) proven"
      ],
      "metadata": {
        "id": "PdxVUhF3ss1G"
      }
    },
    {
      "cell_type": "markdown",
      "source": [
        "# **Part 4 - Validity Check**"
      ],
      "metadata": {
        "id": "howraYI3tt3c"
      }
    },
    {
      "cell_type": "code",
      "source": [
        "# Truth table for (HighGrades ∧ Leader ∧ Applied) → Eligible\n",
        "print(\"Truth Table for (HighGrades ∧ Leader ∧ Applied) → Eligible\")\n",
        "print(\"HighGrades | Leader | Applied | Eligible\")\n",
        "print(\"-----------------------------------------\")\n",
        "\n",
        "# Generate all combinations\n",
        "for hg in [False, True]:\n",
        "    for ld in [False, True]:\n",
        "        for ap in [False, True]:\n",
        "            # Rule: (HighGrades AND Leader AND Applied) → Eligible\n",
        "            eligible = (hg and ld and ap)\n",
        "            print(f\"{str(hg).ljust(9)} | {str(ld).ljust(6)} | {str(ap).ljust(7)} | {str(eligible).ljust(8)}\")\n",
        "\n",
        "print(\"\\n\" + \"=\"*50)\n",
        "print(\"Testing Students:\")\n",
        "print(\"=\"*50)\n",
        "\n",
        "# Student facts\n",
        "students = {\n",
        "    \"Juan\": {\"HighGrades\": True, \"Leader\": True, \"Applied\": True},\n",
        "    \"Maria\": {\"HighGrades\": True, \"Leader\": False, \"Applied\": True},\n",
        "    \"Carlos\": {\"HighGrades\": False, \"Leader\": True, \"Applied\": True},\n",
        "    \"Ana\": {\"HighGrades\": True, \"Leader\": True, \"Applied\": False}\n",
        "}\n",
        "\n",
        "# Test each student\n",
        "for student, attributes in students.items():\n",
        "    hg = attributes[\"HighGrades\"]\n",
        "    ld = attributes[\"Leader\"]\n",
        "    ap = attributes[\"Applied\"]\n",
        "    eligible = (hg and ld and ap)\n",
        "\n",
        "    print(f\"{student}: HighGrades={hg}, Leader={ld}, Applied={ap} → Eligible={eligible}\")"
      ],
      "metadata": {
        "colab": {
          "base_uri": "https://localhost:8080/"
        },
        "id": "BY9sNDsuuG7B",
        "outputId": "c429c9c4-d4eb-45f6-c4ce-20374f8d3123"
      },
      "execution_count": 13,
      "outputs": [
        {
          "output_type": "stream",
          "name": "stdout",
          "text": [
            "Truth Table for (HighGrades ∧ Leader ∧ Applied) → Eligible\n",
            "HighGrades | Leader | Applied | Eligible\n",
            "-----------------------------------------\n",
            "False     | False  | False   | False   \n",
            "False     | False  | True    | False   \n",
            "False     | True   | False   | False   \n",
            "False     | True   | True    | False   \n",
            "True      | False  | False   | False   \n",
            "True      | False  | True    | False   \n",
            "True      | True   | False   | False   \n",
            "True      | True   | True    | True    \n",
            "\n",
            "==================================================\n",
            "Testing Students:\n",
            "==================================================\n",
            "Juan: HighGrades=True, Leader=True, Applied=True → Eligible=True\n",
            "Maria: HighGrades=True, Leader=False, Applied=True → Eligible=False\n",
            "Carlos: HighGrades=False, Leader=True, Applied=True → Eligible=False\n",
            "Ana: HighGrades=True, Leader=True, Applied=False → Eligible=False\n"
          ]
        }
      ]
    },
    {
      "cell_type": "markdown",
      "source": [
        "# **Part 5 - Reflection**"
      ],
      "metadata": {
        "id": "UcQdGsHHuPvy"
      }
    },
    {
      "cell_type": "markdown",
      "source": [
        "In AI, consistent data and accurate logic are fundamental, making logical reasoning indispensable. It enables transparent and explainable decisions based on established rules and facts. In real-life decision-making, logical reasoning helps identify optimal choices by minimizing biases and emotional influences, ensuring objectivity and reliability."
      ],
      "metadata": {
        "id": "Qeo9XT_Ru8pX"
      }
    }
  ]
}